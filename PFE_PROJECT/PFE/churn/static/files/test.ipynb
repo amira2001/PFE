{
 "cells": [
  {
   "cell_type": "code",
   "execution_count": 12,
   "metadata": {},
   "outputs": [],
   "source": [
    "import polars as pl\n",
    "\n",
    "# Charger un fichier Excel\n",
    "df = pl.read_excel('customer_data_algeria.xlsx')\n"
   ]
  },
  {
   "cell_type": "code",
   "execution_count": 10,
   "metadata": {},
   "outputs": [],
   "source": [
    "import pandas as pd \n",
    "\n",
    "df = pd.read_excel('customer_data_algeria.xlsx')"
   ]
  },
  {
   "cell_type": "code",
   "execution_count": 18,
   "metadata": {},
   "outputs": [],
   "source": [
    "\n",
    "df_pandas = pd.DataFrame(df.to_dicts())"
   ]
  },
  {
   "cell_type": "code",
   "execution_count": 19,
   "metadata": {},
   "outputs": [
    {
     "data": {
      "text/html": [
       "<div><style>\n",
       ".dataframe > thead > tr,\n",
       ".dataframe > tbody > tr {\n",
       "  text-align: right;\n",
       "  white-space: pre-wrap;\n",
       "}\n",
       "</style>\n",
       "<small>shape: (20_100, 15)</small><table border=\"1\" class=\"dataframe\"><thead><tr><th>Click Rate</th><th>Products Purchased</th><th>Profile</th><th>Gender</th><th>Contract Type</th><th>Age</th><th>Location</th><th>Income Level</th><th>Device Type</th><th>Plan Type</th><th>Churn Status</th><th>Avg. Monthly Spend</th><th>Preferred Communication Channel</th><th>Contract Start Date</th><th>Customer Satisfaction Score</th></tr><tr><td>str</td><td>str</td><td>str</td><td>str</td><td>str</td><td>i64</td><td>str</td><td>str</td><td>str</td><td>str</td><td>str</td><td>i64</td><td>str</td><td>str</td><td>str</td></tr></thead><tbody><tr><td>&quot;Medium&quot;</td><td>&quot;Mobile, Internet&quot;</td><td>&quot;Business&quot;</td><td>&quot;Female&quot;</td><td>&quot;Prepaid&quot;</td><td>51</td><td>&quot;Relizane&quot;</td><td>&quot;100,000+&quot;</td><td>&quot;Smartphone&quot;</td><td>&quot;Unlimited&quot;</td><td>&quot;No&quot;</td><td>5500</td><td>&quot;SMS&quot;</td><td>&quot;2021-06-01&quot;</td><td>&quot;10/10&quot;</td></tr><tr><td>&quot;High&quot;</td><td>&quot;Mobile, Internet&quot;</td><td>&quot;Business&quot;</td><td>&quot;Female&quot;</td><td>&quot;Prepaid&quot;</td><td>42</td><td>&quot;Blida&quot;</td><td>&quot;75,000-100,000&quot;</td><td>&quot;Desktop&quot;</td><td>&quot;Limited&quot;</td><td>&quot;No&quot;</td><td>3500</td><td>&quot;Calls&quot;</td><td>&quot;2023-07-01&quot;</td><td>&quot;4/10&quot;</td></tr><tr><td>&quot;Medium&quot;</td><td>&quot;Internet&quot;</td><td>&quot;Business&quot;</td><td>&quot;Male&quot;</td><td>&quot;Prepaid&quot;</td><td>56</td><td>&quot;Algiers&quot;</td><td>&quot;50,000-75,000&quot;</td><td>&quot;Tablet&quot;</td><td>&quot;Unlimited&quot;</td><td>&quot;No&quot;</td><td>4500</td><td>&quot;App Notifications&quot;</td><td>&quot;2020-07-09&quot;</td><td>&quot;6/10&quot;</td></tr><tr><td>&quot;High&quot;</td><td>&quot;Mobile&quot;</td><td>&quot;Personal&quot;</td><td>&quot;Male&quot;</td><td>&quot;Postpaid&quot;</td><td>22</td><td>&quot;Constantine&quot;</td><td>&quot;25,000-50,000&quot;</td><td>&quot;Desktop&quot;</td><td>&quot;Unlimited&quot;</td><td>&quot;Yes&quot;</td><td>3500</td><td>&quot;SMS&quot;</td><td>&quot;2021-07-21&quot;</td><td>&quot;1/10&quot;</td></tr><tr><td>&quot;Medium&quot;</td><td>&quot;Internet&quot;</td><td>&quot;Personal&quot;</td><td>&quot;Male&quot;</td><td>&quot;Prepaid&quot;</td><td>46</td><td>&quot;Tiaret&quot;</td><td>&quot;100,000+&quot;</td><td>&quot;Smartphone&quot;</td><td>&quot;Unlimited&quot;</td><td>&quot;No&quot;</td><td>3000</td><td>&quot;Calls&quot;</td><td>&quot;2020-02-03&quot;</td><td>&quot;7/10&quot;</td></tr><tr><td>&hellip;</td><td>&hellip;</td><td>&hellip;</td><td>&hellip;</td><td>&hellip;</td><td>&hellip;</td><td>&hellip;</td><td>&hellip;</td><td>&hellip;</td><td>&hellip;</td><td>&hellip;</td><td>&hellip;</td><td>&hellip;</td><td>&hellip;</td><td>&hellip;</td></tr><tr><td>&quot;Medium&quot;</td><td>&quot;Mobile&quot;</td><td>&quot;Personal&quot;</td><td>&quot;Female&quot;</td><td>&quot;Prepaid&quot;</td><td>115</td><td>&quot;Oran&quot;</td><td>&quot;25,000 or less&quot;</td><td>&quot;Desktop&quot;</td><td>&quot;Unlimited&quot;</td><td>&quot;No&quot;</td><td>5096</td><td>&quot;Calls&quot;</td><td>&quot;2023-07-29&quot;</td><td>&quot;10/106&quot;</td></tr><tr><td>&quot;Medium&quot;</td><td>&quot;Mobile&quot;</td><td>&quot;Personal&quot;</td><td>&quot;Female&quot;</td><td>&quot;Prepaid&quot;</td><td>116</td><td>&quot;Oran&quot;</td><td>&quot;25,000 or less&quot;</td><td>&quot;Desktop&quot;</td><td>&quot;Unlimited&quot;</td><td>&quot;No&quot;</td><td>5097</td><td>&quot;Calls&quot;</td><td>&quot;2023-07-30&quot;</td><td>&quot;10/107&quot;</td></tr><tr><td>&quot;Medium&quot;</td><td>&quot;Mobile&quot;</td><td>&quot;Personal&quot;</td><td>&quot;Female&quot;</td><td>&quot;Prepaid&quot;</td><td>117</td><td>&quot;Oran&quot;</td><td>&quot;25,000 or less&quot;</td><td>&quot;Desktop&quot;</td><td>&quot;Unlimited&quot;</td><td>&quot;No&quot;</td><td>5098</td><td>&quot;Calls&quot;</td><td>&quot;2023-07-31&quot;</td><td>&quot;10/108&quot;</td></tr><tr><td>&quot;Medium&quot;</td><td>&quot;Mobile&quot;</td><td>&quot;Personal&quot;</td><td>&quot;Female&quot;</td><td>&quot;Prepaid&quot;</td><td>118</td><td>&quot;Oran&quot;</td><td>&quot;25,000 or less&quot;</td><td>&quot;Desktop&quot;</td><td>&quot;Unlimited&quot;</td><td>&quot;No&quot;</td><td>5099</td><td>&quot;Calls&quot;</td><td>&quot;2023-08-01&quot;</td><td>&quot;10/109&quot;</td></tr><tr><td>&quot;Medium&quot;</td><td>&quot;Mobile&quot;</td><td>&quot;Personal&quot;</td><td>&quot;Female&quot;</td><td>&quot;Prepaid&quot;</td><td>119</td><td>&quot;Oran&quot;</td><td>&quot;25,000 or less&quot;</td><td>&quot;Desktop&quot;</td><td>&quot;Unlimited&quot;</td><td>&quot;No&quot;</td><td>5100</td><td>&quot;Calls&quot;</td><td>&quot;2023-08-02&quot;</td><td>&quot;10/110&quot;</td></tr></tbody></table></div>"
      ],
      "text/plain": [
       "shape: (20_100, 15)\n",
       "┌────────┬─────────────┬──────────┬────────┬───┬─────────┬─────────────┬─────────────┬─────────────┐\n",
       "│ Click  ┆ Products    ┆ Profile  ┆ Gender ┆ … ┆ Avg.    ┆ Preferred   ┆ Contract    ┆ Customer    │\n",
       "│ Rate   ┆ Purchased   ┆ ---      ┆ ---    ┆   ┆ Monthly ┆ Communicati ┆ Start Date  ┆ Satisfactio │\n",
       "│ ---    ┆ ---         ┆ str      ┆ str    ┆   ┆ Spend   ┆ on Channe…  ┆ ---         ┆ n Score     │\n",
       "│ str    ┆ str         ┆          ┆        ┆   ┆ ---     ┆ ---         ┆ str         ┆ ---         │\n",
       "│        ┆             ┆          ┆        ┆   ┆ i64     ┆ str         ┆             ┆ str         │\n",
       "╞════════╪═════════════╪══════════╪════════╪═══╪═════════╪═════════════╪═════════════╪═════════════╡\n",
       "│ Medium ┆ Mobile,     ┆ Business ┆ Female ┆ … ┆ 5500    ┆ SMS         ┆ 2021-06-01  ┆ 10/10       │\n",
       "│        ┆ Internet    ┆          ┆        ┆   ┆         ┆             ┆             ┆             │\n",
       "│ High   ┆ Mobile,     ┆ Business ┆ Female ┆ … ┆ 3500    ┆ Calls       ┆ 2023-07-01  ┆ 4/10        │\n",
       "│        ┆ Internet    ┆          ┆        ┆   ┆         ┆             ┆             ┆             │\n",
       "│ Medium ┆ Internet    ┆ Business ┆ Male   ┆ … ┆ 4500    ┆ App Notific ┆ 2020-07-09  ┆ 6/10        │\n",
       "│        ┆             ┆          ┆        ┆   ┆         ┆ ations      ┆             ┆             │\n",
       "│ High   ┆ Mobile      ┆ Personal ┆ Male   ┆ … ┆ 3500    ┆ SMS         ┆ 2021-07-21  ┆ 1/10        │\n",
       "│ Medium ┆ Internet    ┆ Personal ┆ Male   ┆ … ┆ 3000    ┆ Calls       ┆ 2020-02-03  ┆ 7/10        │\n",
       "│ …      ┆ …           ┆ …        ┆ …      ┆ … ┆ …       ┆ …           ┆ …           ┆ …           │\n",
       "│ Medium ┆ Mobile      ┆ Personal ┆ Female ┆ … ┆ 5096    ┆ Calls       ┆ 2023-07-29  ┆ 10/106      │\n",
       "│ Medium ┆ Mobile      ┆ Personal ┆ Female ┆ … ┆ 5097    ┆ Calls       ┆ 2023-07-30  ┆ 10/107      │\n",
       "│ Medium ┆ Mobile      ┆ Personal ┆ Female ┆ … ┆ 5098    ┆ Calls       ┆ 2023-07-31  ┆ 10/108      │\n",
       "│ Medium ┆ Mobile      ┆ Personal ┆ Female ┆ … ┆ 5099    ┆ Calls       ┆ 2023-08-01  ┆ 10/109      │\n",
       "│ Medium ┆ Mobile      ┆ Personal ┆ Female ┆ … ┆ 5100    ┆ Calls       ┆ 2023-08-02  ┆ 10/110      │\n",
       "└────────┴─────────────┴──────────┴────────┴───┴─────────┴─────────────┴─────────────┴─────────────┘"
      ]
     },
     "execution_count": 19,
     "metadata": {},
     "output_type": "execute_result"
    }
   ],
   "source": [
    "df"
   ]
  },
  {
   "cell_type": "code",
   "execution_count": null,
   "metadata": {},
   "outputs": [],
   "source": []
  }
 ],
 "metadata": {
  "kernelspec": {
   "display_name": "venv",
   "language": "python",
   "name": "python3"
  },
  "language_info": {
   "codemirror_mode": {
    "name": "ipython",
    "version": 3
   },
   "file_extension": ".py",
   "mimetype": "text/x-python",
   "name": "python",
   "nbconvert_exporter": "python",
   "pygments_lexer": "ipython3",
   "version": "3.11.1"
  }
 },
 "nbformat": 4,
 "nbformat_minor": 2
}
