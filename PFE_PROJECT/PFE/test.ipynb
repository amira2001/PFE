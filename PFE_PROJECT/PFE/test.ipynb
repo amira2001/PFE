{
 "cells": [
  {
   "cell_type": "code",
   "execution_count": null,
   "metadata": {},
   "outputs": [],
   "source": [
    "from django.shortcuts import render,HttpResponse , redirect\n",
    "from django.contrib.auth import authenticate, login, logout\n",
    "from django.contrib.auth.decorators import login_required\n",
    "import pandas as pd\n",
    "from django.conf import settings\n",
    "import os\n",
    "import polars as pl\n",
    "\n",
    "# Charger un fichier Excel\n",
    "df = pl.read_excel('chemin/vers/votre_fichier.xlsx', sheet_name='NomDeLaFeuille')\n",
    "excel_path = os.path.join(settings.BASE_DIR, 'churn/static/files/customer_data_algeria.xlsx')\n"
   ]
  }
 ],
 "metadata": {
  "language_info": {
   "name": "python"
  }
 },
 "nbformat": 4,
 "nbformat_minor": 2
}
